{
 "cells": [
  {
   "cell_type": "code",
   "execution_count": 1,
   "id": "cb87c1a3",
   "metadata": {},
   "outputs": [
    {
     "name": "stdout",
     "output_type": "stream",
     "text": [
      "6\n"
     ]
    }
   ],
   "source": [
    "#Q2 sol\n",
    "a = [\"b\", \"c\", 6, \"h\"] \n",
    "for x in a: \n",
    "    if type(x) == int: \n",
    "        print(x)"
   ]
  },
  {
   "cell_type": "code",
   "execution_count": 2,
   "id": "8de986d0",
   "metadata": {},
   "outputs": [
    {
     "name": "stdout",
     "output_type": "stream",
     "text": [
      "{1: 'a', 2: 'b', 3: 'c', 4: 'g', 5: 'e'}\n"
     ]
    }
   ],
   "source": [
    "#Q3 sol\n",
    "a = {1:'a',2:'b',3:'c',4:'g'}\n",
    "def addkey(a,key,value):\n",
    "    a[key] = value;\n",
    "    return a;\n",
    "\n",
    "print(addkey(a,5,'e'));"
   ]
  },
  {
   "cell_type": "code",
   "execution_count": 3,
   "id": "dee3fc93",
   "metadata": {},
   "outputs": [
    {
     "name": "stdout",
     "output_type": "stream",
     "text": [
      "8\n"
     ]
    }
   ],
   "source": [
    "#Q4  sol \n",
    "x = {\n",
    "    \"a\": 4,\n",
    "    \"b\": \"P\",\n",
    "    \"c\": \"Q\",\n",
    "    \"d\": 1,\n",
    "    \"e\": 3,\n",
    "    \n",
    "}\n",
    "sum = 0;\n",
    "for i in x.values():\n",
    "    if type(i) == int: \n",
    "        sum = sum + i;\n",
    "print(sum);\n",
    "        "
   ]
  },
  {
   "cell_type": "code",
   "execution_count": 7,
   "id": "ed72f789",
   "metadata": {},
   "outputs": [
    {
     "name": "stdout",
     "output_type": "stream",
     "text": [
      "[2, 3, 4, 5]\n"
     ]
    }
   ],
   "source": [
    "#Q5 sol\n",
    "l=[1,2,3,4,5,2,3,4,7,9,5]\n",
    "a1=[]\n",
    "a2=[]\n",
    "for i in l:\n",
    "    if i not in a1:\n",
    "        a1.append(i)\n",
    "    else:\n",
    "       a2.append(i)\n",
    "print(a2)"
   ]
  },
  {
   "cell_type": "code",
   "execution_count": 8,
   "id": "792a99b1",
   "metadata": {},
   "outputs": [
    {
     "name": "stdout",
     "output_type": "stream",
     "text": [
      "3 already exists\n"
     ]
    }
   ],
   "source": [
    "#Q6 sol\n",
    "a = {1:'a',2:'b',3:'c',4:'g'}\n",
    "def find(a, key):\n",
    "    for i in a.keys():\n",
    "        if i == key: \n",
    "            print(key, \"already exists\");\n",
    "find(a,3);"
   ]
  },
  {
   "cell_type": "code",
   "execution_count": 9,
   "id": "224e7cd9",
   "metadata": {},
   "outputs": [
    {
     "name": "stdout",
     "output_type": "stream",
     "text": [
      "Select operation.\n",
      "1.Add\n",
      "2.Subtract\n",
      "3.Multiply\n",
      "4.Divide\n",
      "5.Power\n",
      "Enter choice(1/2/3/4/5): 3\n",
      "Enter first number: 3\n",
      "Enter second number: 4\n",
      "3.0 * 4.0 = 12.0\n",
      "Let's do next calculation? (yes/no): no\n"
     ]
    }
   ],
   "source": [
    "#Q1 sol\n",
    "# simple calculator\n",
    "\n",
    "# addition function\n",
    "def add(x, y):\n",
    "    return x + y\n",
    "\n",
    "# subtract function\n",
    "def subtract(x, y):\n",
    "    return x - y\n",
    "\n",
    "# multily function \n",
    "def multiply(x, y):\n",
    "    return x * y\n",
    "\n",
    "# divide function\n",
    "def divide(x, y):\n",
    "    return x / y\n",
    "\n",
    "#power function\n",
    "def power(x,y):\n",
    "    ans = 1\n",
    "    while y > 0:\n",
    "        ans = ans * x;\n",
    "        y = y - 1;   \n",
    "    return ans\n",
    "\n",
    "print(\"Select operation.\")\n",
    "print(\"1.Add\")\n",
    "print(\"2.Subtract\")\n",
    "print(\"3.Multiply\")\n",
    "print(\"4.Divide\")\n",
    "print(\"5.Power\")\n",
    "\n",
    "while True:\n",
    "    # take input from the user\n",
    "    choice = input(\"Enter choice(1/2/3/4/5): \")\n",
    "\n",
    "    if choice in ('1', '2', '3', '4','5'):\n",
    "\n",
    "        if choice == '1':\n",
    "            num1 = float(input(\"Enter first number: \"))\n",
    "            num2 = float(input(\"Enter second number: \"))\n",
    "            print(num1, \"+\", num2, \"=\", add(num1, num2))\n",
    "\n",
    "        elif choice == '2':\n",
    "            num1 = float(input(\"Enter first number: \"))\n",
    "            num2 = float(input(\"Enter second number: \"))\n",
    "            print(num1, \"-\", num2, \"=\", subtract(num1, num2))\n",
    "\n",
    "        elif choice == '3':\n",
    "            num1 = float(input(\"Enter first number: \"))\n",
    "            num2 = float(input(\"Enter second number: \"))\n",
    "            print(num1, \"*\", num2, \"=\", multiply(num1, num2))\n",
    "\n",
    "        elif choice == '4':\n",
    "            num1 = float(input(\"Enter first number: \"))\n",
    "            num2 = float(input(\"Enter second number: \"))\n",
    "            if num2 == 0:\n",
    "                print(\"Error not divisible by zero\")\n",
    "            else:\n",
    "                print(num1, \"/\", num2, \"=\", divide(num1, num2))\n",
    "        elif choice == '5':\n",
    "            base = int(input(\"Enter base: \"))\n",
    "            pwr = int(input(\"Enter power: \"))\n",
    "            print(base, \"^\", pwr, \"=\", power(base, pwr))\n",
    "        \n",
    "        # check if user wants another calculation\n",
    "        # break the while loop if answer is no\n",
    "        next_calculation = input(\"Let's do next calculation? (yes/no): \")\n",
    "        if next_calculation == \"no\":\n",
    "          break\n",
    "    \n",
    "    else:\n",
    "        print(\"Invalid Input\")\n"
   ]
  },
  {
   "cell_type": "code",
   "execution_count": null,
   "id": "c494b0af",
   "metadata": {},
   "outputs": [],
   "source": []
  }
 ],
 "metadata": {
  "kernelspec": {
   "display_name": "Python 3",
   "language": "python",
   "name": "python3"
  },
  "language_info": {
   "codemirror_mode": {
    "name": "ipython",
    "version": 3
   },
   "file_extension": ".py",
   "mimetype": "text/x-python",
   "name": "python",
   "nbconvert_exporter": "python",
   "pygments_lexer": "ipython3",
   "version": "3.8.8"
  }
 },
 "nbformat": 4,
 "nbformat_minor": 5
}
