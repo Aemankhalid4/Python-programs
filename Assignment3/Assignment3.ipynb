{
 "cells": [
  {
   "cell_type": "code",
   "execution_count": 1,
   "id": "598f31e7",
   "metadata": {},
   "outputs": [
    {
     "name": "stdout",
     "output_type": "stream",
     "text": [
      "Twinkle, twinkle, little star,\n",
      "\tHow I wonder what you are!\n",
      "\t\tUp above the world so high,\n",
      "\t\tLike a diamond in the sky.\n",
      "Twinkle, twinkle, little star,\n",
      "\tHow I wonder what you are\n"
     ]
    }
   ],
   "source": [
    "#1.Write a Python program to print the following string in a specific format (see the\n",
    "#output).\n",
    "\n",
    "print(\"Twinkle, twinkle, little star,\");\n",
    "print(\"\\tHow I wonder what you are!\");\n",
    "print(\"\\t\\tUp above the world so high,\");\n",
    "print(\"\\t\\tLike a diamond in the sky.\");\n",
    "\n",
    "print(\"Twinkle, twinkle, little star,\");\n",
    "print(\"\\tHow I wonder what you are\");"
   ]
  },
  {
   "cell_type": "code",
   "execution_count": 2,
   "id": "a617e68f",
   "metadata": {},
   "outputs": [
    {
     "name": "stdout",
     "output_type": "stream",
     "text": [
      "Python version\n",
      "3.8.8 (default, Apr 13 2021, 15:08:03) [MSC v.1916 64 bit (AMD64)]\n",
      "Version info.\n",
      "sys.version_info(major=3, minor=8, micro=8, releaselevel='final', serial=0)\n"
     ]
    }
   ],
   "source": [
    "#2. Write a Python program to get the Python version you are using\n",
    "import sys\n",
    "print(\"Python version\")\n",
    "print (sys.version)\n",
    "print(\"Version info.\")\n",
    "print (sys.version_info)"
   ]
  },
  {
   "cell_type": "code",
   "execution_count": 3,
   "id": "3f927e1b",
   "metadata": {},
   "outputs": [
    {
     "name": "stdout",
     "output_type": "stream",
     "text": [
      "Current date and time : \n",
      "2021-10-24 18:12:36\n"
     ]
    }
   ],
   "source": [
    "#3. Write a Python program to display the current date and time.\n",
    "import datetime\n",
    "dt = datetime.datetime.now()\n",
    "print (\"Current date and time : \")\n",
    "print (dt.strftime(\"%Y-%m-%d %H:%M:%S\"))"
   ]
  },
  {
   "cell_type": "code",
   "execution_count": 4,
   "id": "86286982",
   "metadata": {},
   "outputs": [
    {
     "name": "stdout",
     "output_type": "stream",
     "text": [
      "Input the radius of the circle : 7\n",
      "Area of circle is: 153.86\n"
     ]
    }
   ],
   "source": [
    "#4. Write a Python program which accepts the radius of a circle from the user and compute\n",
    "#the area.\n",
    "rad = float(input (\"Input the radius of the circle : \"))\n",
    "area = 3.14 * (rad**2);\n",
    "print(\"Area of circle is:\",area);"
   ]
  },
  {
   "cell_type": "code",
   "execution_count": 5,
   "id": "02dca9ea",
   "metadata": {},
   "outputs": [
    {
     "name": "stdout",
     "output_type": "stream",
     "text": [
      "Input your First Name : Aeman\n",
      "Input your Last Name : Khalid\n",
      "Khalid Aeman\n"
     ]
    }
   ],
   "source": [
    "#5. Write a Python program which accepts the user's first and last name and print them in\n",
    "#reverse order with a space between them.\n",
    "fname = input(\"Input your First Name : \")\n",
    "lname = input(\"Input your Last Name : \")\n",
    "print (lname + \" \" + fname);"
   ]
  },
  {
   "cell_type": "code",
   "execution_count": 6,
   "id": "e81d367d",
   "metadata": {},
   "outputs": [
    {
     "name": "stdout",
     "output_type": "stream",
     "text": [
      "enter first number: 6\n",
      "enter second number: 8\n",
      "sum is: 14\n"
     ]
    }
   ],
   "source": [
    "#6. Write a python program which takes two inputs from user and print them addition\n",
    "x = int(input(\"enter first number: \"));\n",
    "y = int(input(\"enter second number: \"));\n",
    "sum = x + y;\n",
    "print(\"sum is:\", sum);"
   ]
  },
  {
   "cell_type": "code",
   "execution_count": 7,
   "id": "86cb2f79",
   "metadata": {},
   "outputs": [
    {
     "name": "stdout",
     "output_type": "stream",
     "text": [
      "Enter marks of the English subject out of 100: 78\n",
      "Enter marks of the Urdu subject out of 100: 99\n",
      "Enter marks of the Islamiyat subject out of 100: 89\n",
      "Enter marks of the Science subject out of 100: 70\n",
      "Enter marks of the Pak study subject out of 100: 88\n",
      "Grade A+\n"
     ]
    }
   ],
   "source": [
    "#7. Write a program which takes 5 inputs from user for different subject’s marks, total it\n",
    "# and generate mark sheet using grades ?\n",
    "\n",
    "sub1=int(input(\"Enter marks of the English subject out of 100: \"))\n",
    "sub2=int(input(\"Enter marks of the Urdu subject out of 100: \"))\n",
    "sub3=int(input(\"Enter marks of the Islamiyat subject out of 100: \"))\n",
    "sub4=int(input(\"Enter marks of the Science subject out of 100: \"))\n",
    "sub5=int(input(\"Enter marks of the Pak study subject out of 100: \"))\n",
    "totalmarks = 500;\n",
    "percent = ((sub1 + sub2 + sub3 + sub4 + sub5) / totalmarks) * 100;\n",
    "percent =  round(percent);\n",
    "if percent < 100 and percent >=80:\n",
    "    print(\"Grade A+\");\n",
    "elif percent < 80 and percent >=75:\n",
    "    print(\"Grade A\");\n",
    "elif percent < 75 and percent >=65:\n",
    "    print(\"Grade B+\");\n",
    "elif percent < 65 and percent >=55:\n",
    "    print(\"Grade B\");\n",
    "elif percent < 55 and percent >=45:\n",
    "    print(\"Grade C\");\n",
    "elif percent < 45 and percent >=35:\n",
    "    print(\"Grade D\");\n",
    "elif percent < 35 and percent >=34:\n",
    "    print(\"Grade E\");\n",
    "else:\n",
    "    print(\"fail\");"
   ]
  },
  {
   "cell_type": "code",
   "execution_count": 8,
   "id": "a740672d",
   "metadata": {},
   "outputs": [
    {
     "name": "stdout",
     "output_type": "stream",
     "text": [
      "Enter a number: 8\n",
      "8  is Even number\n"
     ]
    }
   ],
   "source": [
    "#8. Write a program which take input from user and identify that the given number is even\n",
    "#or odd?\n",
    "num = int(input(\"Enter a number: \"))  \n",
    "if (num % 2) == 0:  \n",
    "   print(num,\" is Even number\");  \n",
    "else:  \n",
    "   print(num,\" is Odd number\");"
   ]
  },
  {
   "cell_type": "code",
   "execution_count": 9,
   "id": "c8862d5a",
   "metadata": {},
   "outputs": [
    {
     "name": "stdout",
     "output_type": "stream",
     "text": [
      "Lenght is =  5\n"
     ]
    }
   ],
   "source": [
    "#9. Write a program which print the length of the list?\n",
    "x = [\"dog\", \"oil\", 1, 2, 3.0]\n",
    "print (\"Lenght is = \", len(x));"
   ]
  },
  {
   "cell_type": "code",
   "execution_count": 10,
   "id": "b3c3243a",
   "metadata": {},
   "outputs": [
    {
     "name": "stdout",
     "output_type": "stream",
     "text": [
      "28\n"
     ]
    }
   ],
   "source": [
    "#10.Write a Python program to sum all the numeric items in a list?\n",
    "z = [1, 4, 5, 8, 10];\n",
    "total_sum = 0\n",
    "for x in z:\n",
    "    total_sum += x\n",
    "print(total_sum);"
   ]
  },
  {
   "cell_type": "code",
   "execution_count": 11,
   "id": "7da14705",
   "metadata": {},
   "outputs": [
    {
     "name": "stdout",
     "output_type": "stream",
     "text": [
      "10\n"
     ]
    }
   ],
   "source": [
    "#11.Write a Python program to get the largest number from a numeric list.\n",
    "list1 = [1,4,8,7,10];\n",
    "max = list1[ 0 ]\n",
    "for x in list1:\n",
    "    if x > max:\n",
    "        max = x\n",
    "print(max);"
   ]
  },
  {
   "cell_type": "code",
   "execution_count": 12,
   "id": "abf7a38b",
   "metadata": {},
   "outputs": [
    {
     "name": "stdout",
     "output_type": "stream",
     "text": [
      "[8, 13, 21, 34, 55, 89]\n"
     ]
    }
   ],
   "source": [
    "#12. Take a list, say for example this one:\n",
    "#a = [1, 1, 2, 3, 5, 8, 13, 21, 34, 55, 89]\n",
    "#Write a program that prints out all the elements of the list that are less than 5.\n",
    "\n",
    "a = [1, 1, 2, 3, 5, 8, 13, 21, 34, 55, 89]\n",
    "list1 = [item for item in a if item > 5]\n",
    "\n",
    "print(list1)"
   ]
  },
  {
   "cell_type": "code",
   "execution_count": null,
   "id": "e61e05e1",
   "metadata": {},
   "outputs": [],
   "source": []
  }
 ],
 "metadata": {
  "kernelspec": {
   "display_name": "Python 3",
   "language": "python",
   "name": "python3"
  },
  "language_info": {
   "codemirror_mode": {
    "name": "ipython",
    "version": 3
   },
   "file_extension": ".py",
   "mimetype": "text/x-python",
   "name": "python",
   "nbconvert_exporter": "python",
   "pygments_lexer": "ipython3",
   "version": "3.8.8"
  }
 },
 "nbformat": 4,
 "nbformat_minor": 5
}
